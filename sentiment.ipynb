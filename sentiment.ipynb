{
 "cells": [
  {
   "cell_type": "code",
   "execution_count": 1,
   "metadata": {},
   "outputs": [],
   "source": [
    "import pandas as pd\n",
    "import tensorflow as tf\n",
    "import matplotlib.pyplot as plt\n",
    "from tensorflow.keras.preprocessing.text import Tokenizer\n",
    "from tensorflow.keras.preprocessing.sequence import pad_sequences\n",
    "from tensorflow.keras.models import Sequential\n",
    "from tensorflow.keras.layers import Embedding , Dense , LSTM\n",
    "from sklearn.preprocessing import LabelEncoder"
   ]
  },
  {
   "cell_type": "code",
   "execution_count": 2,
   "metadata": {},
   "outputs": [
    {
     "data": {
      "text/html": [
       "<div>\n",
       "<style scoped>\n",
       "    .dataframe tbody tr th:only-of-type {\n",
       "        vertical-align: middle;\n",
       "    }\n",
       "\n",
       "    .dataframe tbody tr th {\n",
       "        vertical-align: top;\n",
       "    }\n",
       "\n",
       "    .dataframe thead th {\n",
       "        text-align: right;\n",
       "    }\n",
       "</style>\n",
       "<table border=\"1\" class=\"dataframe\">\n",
       "  <thead>\n",
       "    <tr style=\"text-align: right;\">\n",
       "      <th></th>\n",
       "      <th>review</th>\n",
       "      <th>sentiment</th>\n",
       "    </tr>\n",
       "  </thead>\n",
       "  <tbody>\n",
       "    <tr>\n",
       "      <th>0</th>\n",
       "      <td>One of the other reviewers has mentioned that ...</td>\n",
       "      <td>positive</td>\n",
       "    </tr>\n",
       "    <tr>\n",
       "      <th>1</th>\n",
       "      <td>A wonderful little production. &lt;br /&gt;&lt;br /&gt;The...</td>\n",
       "      <td>positive</td>\n",
       "    </tr>\n",
       "    <tr>\n",
       "      <th>2</th>\n",
       "      <td>I thought this was a wonderful way to spend ti...</td>\n",
       "      <td>positive</td>\n",
       "    </tr>\n",
       "    <tr>\n",
       "      <th>3</th>\n",
       "      <td>Basically there's a family where a little boy ...</td>\n",
       "      <td>negative</td>\n",
       "    </tr>\n",
       "    <tr>\n",
       "      <th>4</th>\n",
       "      <td>Petter Mattei's \"Love in the Time of Money\" is...</td>\n",
       "      <td>positive</td>\n",
       "    </tr>\n",
       "  </tbody>\n",
       "</table>\n",
       "</div>"
      ],
      "text/plain": [
       "                                              review sentiment\n",
       "0  One of the other reviewers has mentioned that ...  positive\n",
       "1  A wonderful little production. <br /><br />The...  positive\n",
       "2  I thought this was a wonderful way to spend ti...  positive\n",
       "3  Basically there's a family where a little boy ...  negative\n",
       "4  Petter Mattei's \"Love in the Time of Money\" is...  positive"
      ]
     },
     "execution_count": 2,
     "metadata": {},
     "output_type": "execute_result"
    }
   ],
   "source": [
    "dataset = pd.read_csv(\"IMDB Dataset.csv\")\n",
    "dataset.head(5)"
   ]
  },
  {
   "cell_type": "code",
   "execution_count": 3,
   "metadata": {},
   "outputs": [
    {
     "data": {
      "text/plain": [
       "(50000, 2)"
      ]
     },
     "execution_count": 3,
     "metadata": {},
     "output_type": "execute_result"
    }
   ],
   "source": [
    "dataset.shape"
   ]
  },
  {
   "cell_type": "code",
   "execution_count": 4,
   "metadata": {},
   "outputs": [],
   "source": [
    "encoder = LabelEncoder()\n",
    "dataset['sentiment'] = encoder.fit_transform(dataset['sentiment'])"
   ]
  },
  {
   "cell_type": "code",
   "execution_count": 5,
   "metadata": {},
   "outputs": [
    {
     "data": {
      "text/html": [
       "<div>\n",
       "<style scoped>\n",
       "    .dataframe tbody tr th:only-of-type {\n",
       "        vertical-align: middle;\n",
       "    }\n",
       "\n",
       "    .dataframe tbody tr th {\n",
       "        vertical-align: top;\n",
       "    }\n",
       "\n",
       "    .dataframe thead th {\n",
       "        text-align: right;\n",
       "    }\n",
       "</style>\n",
       "<table border=\"1\" class=\"dataframe\">\n",
       "  <thead>\n",
       "    <tr style=\"text-align: right;\">\n",
       "      <th></th>\n",
       "      <th>review</th>\n",
       "      <th>sentiment</th>\n",
       "    </tr>\n",
       "  </thead>\n",
       "  <tbody>\n",
       "    <tr>\n",
       "      <th>0</th>\n",
       "      <td>One of the other reviewers has mentioned that ...</td>\n",
       "      <td>1</td>\n",
       "    </tr>\n",
       "    <tr>\n",
       "      <th>1</th>\n",
       "      <td>A wonderful little production. &lt;br /&gt;&lt;br /&gt;The...</td>\n",
       "      <td>1</td>\n",
       "    </tr>\n",
       "    <tr>\n",
       "      <th>2</th>\n",
       "      <td>I thought this was a wonderful way to spend ti...</td>\n",
       "      <td>1</td>\n",
       "    </tr>\n",
       "    <tr>\n",
       "      <th>3</th>\n",
       "      <td>Basically there's a family where a little boy ...</td>\n",
       "      <td>0</td>\n",
       "    </tr>\n",
       "    <tr>\n",
       "      <th>4</th>\n",
       "      <td>Petter Mattei's \"Love in the Time of Money\" is...</td>\n",
       "      <td>1</td>\n",
       "    </tr>\n",
       "  </tbody>\n",
       "</table>\n",
       "</div>"
      ],
      "text/plain": [
       "                                              review  sentiment\n",
       "0  One of the other reviewers has mentioned that ...          1\n",
       "1  A wonderful little production. <br /><br />The...          1\n",
       "2  I thought this was a wonderful way to spend ti...          1\n",
       "3  Basically there's a family where a little boy ...          0\n",
       "4  Petter Mattei's \"Love in the Time of Money\" is...          1"
      ]
     },
     "execution_count": 5,
     "metadata": {},
     "output_type": "execute_result"
    }
   ],
   "source": [
    "dataset.head(5)"
   ]
  },
  {
   "cell_type": "code",
   "execution_count": 6,
   "metadata": {},
   "outputs": [
    {
     "data": {
      "text/plain": [
       "review       0\n",
       "sentiment    0\n",
       "dtype: int64"
      ]
     },
     "execution_count": 6,
     "metadata": {},
     "output_type": "execute_result"
    }
   ],
   "source": [
    "dataset.isnull().sum()"
   ]
  },
  {
   "cell_type": "code",
   "execution_count": 7,
   "metadata": {},
   "outputs": [],
   "source": [
    "dataset.drop_duplicates(inplace=True)"
   ]
  },
  {
   "cell_type": "code",
   "execution_count": 8,
   "metadata": {},
   "outputs": [
    {
     "data": {
      "text/plain": [
       "(49582, 2)"
      ]
     },
     "execution_count": 8,
     "metadata": {},
     "output_type": "execute_result"
    }
   ],
   "source": [
    "dataset.shape"
   ]
  },
  {
   "cell_type": "code",
   "execution_count": 9,
   "metadata": {},
   "outputs": [
    {
     "data": {
      "text/plain": [
       "sentiment\n",
       "1    24884\n",
       "0    24698\n",
       "Name: count, dtype: int64"
      ]
     },
     "execution_count": 9,
     "metadata": {},
     "output_type": "execute_result"
    }
   ],
   "source": [
    "dataset['sentiment'].value_counts()"
   ]
  },
  {
   "cell_type": "code",
   "execution_count": 10,
   "metadata": {},
   "outputs": [
    {
     "data": {
      "image/png": "[encoded data removed]",
      "text/plain": [
       "<Figure size 640x480 with 1 Axes>"
      ]
     },
     "metadata": {},
     "output_type": "display_data"
    }
   ],
   "source": [
    "plt.pie(dataset['sentiment'].value_counts() , labels=['positive' , 'negative'] , autopct='%0.2f')\n",
    "plt.show()"
   ]
  },
  {
   "cell_type": "code",
   "execution_count": 11,
   "metadata": {},
   "outputs": [],
   "source": [
    "import re"
   ]
  },
  {
   "cell_type": "code",
   "execution_count": 12,
   "metadata": {},
   "outputs": [],
   "source": [
    "def transformed_text(text):\n",
    "    text = re.sub(r'<[^>]+>', '', text)\n",
    "    text = re.sub(r'https?://\\S+|www\\.\\S+', '', text)\n",
    "\n",
    "    return text"
   ]
  },
  {
   "cell_type": "code",
   "execution_count": 13,
   "metadata": {},
   "outputs": [],
   "source": [
    "dataset['review'] = dataset['review'].apply(transformed_text)"
   ]
  },
  {
   "cell_type": "code",
   "execution_count": 14,
   "metadata": {},
   "outputs": [
    {
     "data": {
      "text/html": [
       "<div>\n",
       "<style scoped>\n",
       "    .dataframe tbody tr th:only-of-type {\n",
       "        vertical-align: middle;\n",
       "    }\n",
       "\n",
       "    .dataframe tbody tr th {\n",
       "        vertical-align: top;\n",
       "    }\n",
       "\n",
       "    .dataframe thead th {\n",
       "        text-align: right;\n",
       "    }\n",
       "</style>\n",
       "<table border=\"1\" class=\"dataframe\">\n",
       "  <thead>\n",
       "    <tr style=\"text-align: right;\">\n",
       "      <th></th>\n",
       "      <th>review</th>\n",
       "      <th>sentiment</th>\n",
       "    </tr>\n",
       "  </thead>\n",
       "  <tbody>\n",
       "    <tr>\n",
       "      <th>0</th>\n",
       "      <td>One of the other reviewers has mentioned that ...</td>\n",
       "      <td>1</td>\n",
       "    </tr>\n",
       "    <tr>\n",
       "      <th>1</th>\n",
       "      <td>A wonderful little production. The filming tec...</td>\n",
       "      <td>1</td>\n",
       "    </tr>\n",
       "    <tr>\n",
       "      <th>2</th>\n",
       "      <td>I thought this was a wonderful way to spend ti...</td>\n",
       "      <td>1</td>\n",
       "    </tr>\n",
       "    <tr>\n",
       "      <th>3</th>\n",
       "      <td>Basically there's a family where a little boy ...</td>\n",
       "      <td>0</td>\n",
       "    </tr>\n",
       "    <tr>\n",
       "      <th>4</th>\n",
       "      <td>Petter Mattei's \"Love in the Time of Money\" is...</td>\n",
       "      <td>1</td>\n",
       "    </tr>\n",
       "  </tbody>\n",
       "</table>\n",
       "</div>"
      ],
      "text/plain": [
       "                                              review  sentiment\n",
       "0  One of the other reviewers has mentioned that ...          1\n",
       "1  A wonderful little production. The filming tec...          1\n",
       "2  I thought this was a wonderful way to spend ti...          1\n",
       "3  Basically there's a family where a little boy ...          0\n",
       "4  Petter Mattei's \"Love in the Time of Money\" is...          1"
      ]
     },
     "execution_count": 14,
     "metadata": {},
     "output_type": "execute_result"
    }
   ],
   "source": [
    "dataset.head(5)"
   ]
  },
  {
   "cell_type": "code",
   "execution_count": 15,
   "metadata": {},
   "outputs": [],
   "source": [
    "from sklearn.model_selection import train_test_split"
   ]
  },
  {
   "cell_type": "code",
   "execution_count": 16,
   "metadata": {},
   "outputs": [],
   "source": [
    "train_data, test_data = train_test_split(dataset , test_size=0.2 , random_state=42)"
   ]
  },
  {
   "cell_type": "code",
   "execution_count": 17,
   "metadata": {},
   "outputs": [],
   "source": [
    "tokenizer = Tokenizer(num_words=5000)\n",
    "\n",
    "tokenizer.fit_on_texts(train_data['review'])\n",
    "x_train_seq = tokenizer.texts_to_sequences(train_data['review'])\n",
    "\n",
    "x_test_seq = tokenizer.texts_to_sequences(test_data['review'])"
   ]
  },
  {
   "cell_type": "code",
   "execution_count": 18,
   "metadata": {},
   "outputs": [],
   "source": [
    "maxlen = 200\n",
    "x_train_padded = pad_sequences(x_train_seq, maxlen=maxlen, padding='post')\n",
    "x_test_padded = pad_sequences(x_test_seq, maxlen=maxlen, padding='post')"
   ]
  },
  {
   "cell_type": "code",
   "execution_count": 19,
   "metadata": {},
   "outputs": [
    {
     "name": "stdout",
     "output_type": "stream",
     "text": [
      "[   9   63  429    1   14  985  166   17  147   10   12   36  560  342\n",
      "    2  313  125  322  261 4628   16    3  599   10   14   12   73   43\n",
      "   36 1317   99 1185    9  234  434    5  883  157  406   17    9   88\n",
      "   55  117   47  325    5  131    9 1453    3  372    4  211   17   60\n",
      "   81    9   12 2766    3   14   36   11  140   28  221   25  154   49\n",
      "  125 1957    8   12   20  272   22   38  154    2 2014 1044   83  712\n",
      "  352   94   38 1273   16    1  166   42   21  174    3  154 1044   14\n",
      "  351  157    6   10  351  201  133    0    0    0    0    0    0    0\n",
      "    0    0    0    0    0    0    0    0    0    0    0    0    0    0\n",
      "    0    0    0    0    0    0    0    0    0    0    0    0    0    0\n",
      "    0    0    0    0    0    0    0    0    0    0    0    0    0    0\n",
      "    0    0    0    0    0    0    0    0    0    0    0    0    0    0\n",
      "    0    0    0    0    0    0    0    0    0    0    0    0    0    0\n",
      "    0    0    0    0    0    0    0    0    0    0    0    0    0    0\n",
      "    0    0    0    0]\n"
     ]
    }
   ],
   "source": [
    "print(x_train_padded[0])"
   ]
  },
  {
   "cell_type": "code",
   "execution_count": 20,
   "metadata": {},
   "outputs": [
    {
     "name": "stderr",
     "output_type": "stream",
     "text": [
      "c:\\Users\\rojas\\OneDrive\\Desktop\\DEEP LEARNING\\myenv\\Lib\\site-packages\\keras\\src\\layers\\core\\embedding.py:90: UserWarning: Argument `input_length` is deprecated. Just remove it.\n",
      "  warnings.warn(\n"
     ]
    }
   ],
   "source": [
    "model = Sequential()\n",
    "model.add(Embedding(input_dim=5000 , output_dim=128 , input_length = 200 , trainable=True))\n",
    "model.add(LSTM(128 , dropout=0.2 , recurrent_dropout=0.2 , return_sequences=True))\n",
    "model.add(LSTM(128 , dropout=0.2 , recurrent_dropout=0.2 , return_sequences=False))\n",
    "model.build((None, 128))\n",
    "model.add(Dense(1 , activation='sigmoid'))"
   ]
  },
  {
   "cell_type": "code",
   "execution_count": 21,
   "metadata": {},
   "outputs": [],
   "source": [
    "model.compile(optimizer='adam', loss='binary_crossentropy', metrics=['accuracy'])"
   ]
  },
  {
   "cell_type": "code",
   "execution_count": 22,
   "metadata": {},
   "outputs": [
    {
     "data": {
      "text/html": [
       "<pre style=\"white-space:pre;overflow-x:auto;line-height:normal;font-family:Menlo,'DejaVu Sans Mono',consolas,'Courier New',monospace\"><span style=\"font-weight: bold\">Model: \"sequential\"</span>\n",
       "</pre>\n"
      ],
      "text/plain": [
       "\u001b[1mModel: \"sequential\"\u001b[0m\n"
      ]
     },
     "metadata": {},
     "output_type": "display_data"
    },
    {
     "data": {
      "text/html": [
       "<pre style=\"white-space:pre;overflow-x:auto;line-height:normal;font-family:Menlo,'DejaVu Sans Mono',consolas,'Courier New',monospace\">┏━━━━━━━━━━━━━━━━━━━━━━━━━━━━━━━━━┳━━━━━━━━━━━━━━━━━━━━━━━━┳━━━━━━━━━━━━━━━┓\n",
       "┃<span style=\"font-weight: bold\"> Layer (type)                    </span>┃<span style=\"font-weight: bold\"> Output Shape           </span>┃<span style=\"font-weight: bold\">       Param # </span>┃\n",
       "┡━━━━━━━━━━━━━━━━━━━━━━━━━━━━━━━━━╇━━━━━━━━━━━━━━━━━━━━━━━━╇━━━━━━━━━━━━━━━┩\n",
       "│ embedding (<span style=\"color: #0087ff; text-decoration-color: #0087ff\">Embedding</span>)           │ (<span style=\"color: #00d7ff; text-decoration-color: #00d7ff\">None</span>, <span style=\"color: #00af00; text-decoration-color: #00af00\">128</span>, <span style=\"color: #00af00; text-decoration-color: #00af00\">128</span>)       │       <span style=\"color: #00af00; text-decoration-color: #00af00\">640,000</span> │\n",
       "├─────────────────────────────────┼────────────────────────┼───────────────┤\n",
       "│ lstm (<span style=\"color: #0087ff; text-decoration-color: #0087ff\">LSTM</span>)                     │ (<span style=\"color: #00d7ff; text-decoration-color: #00d7ff\">None</span>, <span style=\"color: #00af00; text-decoration-color: #00af00\">128</span>, <span style=\"color: #00af00; text-decoration-color: #00af00\">128</span>)       │       <span style=\"color: #00af00; text-decoration-color: #00af00\">131,584</span> │\n",
       "├─────────────────────────────────┼────────────────────────┼───────────────┤\n",
       "│ lstm_1 (<span style=\"color: #0087ff; text-decoration-color: #0087ff\">LSTM</span>)                   │ (<span style=\"color: #00d7ff; text-decoration-color: #00d7ff\">None</span>, <span style=\"color: #00af00; text-decoration-color: #00af00\">128</span>)            │       <span style=\"color: #00af00; text-decoration-color: #00af00\">131,584</span> │\n",
       "├─────────────────────────────────┼────────────────────────┼───────────────┤\n",
       "│ dense (<span style=\"color: #0087ff; text-decoration-color: #0087ff\">Dense</span>)                   │ (<span style=\"color: #00d7ff; text-decoration-color: #00d7ff\">None</span>, <span style=\"color: #00af00; text-decoration-color: #00af00\">1</span>)              │           <span style=\"color: #00af00; text-decoration-color: #00af00\">129</span> │\n",
       "└─────────────────────────────────┴────────────────────────┴───────────────┘\n",
       "</pre>\n"
      ],
      "text/plain": [
       "┏━━━━━━━━━━━━━━━━━━━━━━━━━━━━━━━━━┳━━━━━━━━━━━━━━━━━━━━━━━━┳━━━━━━━━━━━━━━━┓\n",
       "┃\u001b[1m \u001b[0m\u001b[1mLayer (type)                   \u001b[0m\u001b[1m \u001b[0m┃\u001b[1m \u001b[0m\u001b[1mOutput Shape          \u001b[0m\u001b[1m \u001b[0m┃\u001b[1m \u001b[0m\u001b[1m      Param #\u001b[0m\u001b[1m \u001b[0m┃\n",
       "┡━━━━━━━━━━━━━━━━━━━━━━━━━━━━━━━━━╇━━━━━━━━━━━━━━━━━━━━━━━━╇━━━━━━━━━━━━━━━┩\n",
       "│ embedding (\u001b[38;5;33mEmbedding\u001b[0m)           │ (\u001b[38;5;45mNone\u001b[0m, \u001b[38;5;34m128\u001b[0m, \u001b[38;5;34m128\u001b[0m)       │       \u001b[38;5;34m640,000\u001b[0m │\n",
       "├─────────────────────────────────┼────────────────────────┼───────────────┤\n",
       "│ lstm (\u001b[38;5;33mLSTM\u001b[0m)                     │ (\u001b[38;5;45mNone\u001b[0m, \u001b[38;5;34m128\u001b[0m, \u001b[38;5;34m128\u001b[0m)       │       \u001b[38;5;34m131,584\u001b[0m │\n",
       "├─────────────────────────────────┼────────────────────────┼───────────────┤\n",
       "│ lstm_1 (\u001b[38;5;33mLSTM\u001b[0m)                   │ (\u001b[38;5;45mNone\u001b[0m, \u001b[38;5;34m128\u001b[0m)            │       \u001b[38;5;34m131,584\u001b[0m │\n",
       "├─────────────────────────────────┼────────────────────────┼───────────────┤\n",
       "│ dense (\u001b[38;5;33mDense\u001b[0m)                   │ (\u001b[38;5;45mNone\u001b[0m, \u001b[38;5;34m1\u001b[0m)              │           \u001b[38;5;34m129\u001b[0m │\n",
       "└─────────────────────────────────┴────────────────────────┴───────────────┘\n"
      ]
     },
     "metadata": {},
     "output_type": "display_data"
    },
    {
     "data": {
      "text/html": [
       "<pre style=\"white-space:pre;overflow-x:auto;line-height:normal;font-family:Menlo,'DejaVu Sans Mono',consolas,'Courier New',monospace\"><span style=\"font-weight: bold\"> Total params: </span><span style=\"color: #00af00; text-decoration-color: #00af00\">903,297</span> (3.45 MB)\n",
       "</pre>\n"
      ],
      "text/plain": [
       "\u001b[1m Total params: \u001b[0m\u001b[38;5;34m903,297\u001b[0m (3.45 MB)\n"
      ]
     },
     "metadata": {},
     "output_type": "display_data"
    },
    {
     "data": {
      "text/html": [
       "<pre style=\"white-space:pre;overflow-x:auto;line-height:normal;font-family:Menlo,'DejaVu Sans Mono',consolas,'Courier New',monospace\"><span style=\"font-weight: bold\"> Trainable params: </span><span style=\"color: #00af00; text-decoration-color: #00af00\">903,297</span> (3.45 MB)\n",
       "</pre>\n"
      ],
      "text/plain": [
       "\u001b[1m Trainable params: \u001b[0m\u001b[38;5;34m903,297\u001b[0m (3.45 MB)\n"
      ]
     },
     "metadata": {},
     "output_type": "display_data"
    },
    {
     "data": {
      "text/html": [
       "<pre style=\"white-space:pre;overflow-x:auto;line-height:normal;font-family:Menlo,'DejaVu Sans Mono',consolas,'Courier New',monospace\"><span style=\"font-weight: bold\"> Non-trainable params: </span><span style=\"color: #00af00; text-decoration-color: #00af00\">0</span> (0.00 B)\n",
       "</pre>\n"
      ],
      "text/plain": [
       "\u001b[1m Non-trainable params: \u001b[0m\u001b[38;5;34m0\u001b[0m (0.00 B)\n"
      ]
     },
     "metadata": {},
     "output_type": "display_data"
    }
   ],
   "source": [
    "model.summary()"
   ]
  },
  {
   "cell_type": "code",
   "execution_count": 23,
   "metadata": {},
   "outputs": [],
   "source": [
    "y_train = train_data['sentiment']\n",
    "y_test = test_data['sentiment']"
   ]
  },
  {
   "cell_type": "code",
   "execution_count": 24,
   "metadata": {},
   "outputs": [
    {
     "name": "stdout",
     "output_type": "stream",
     "text": [
      "Epoch 1/5\n",
      "\u001b[1m496/496\u001b[0m \u001b[32m━━━━━━━━━━━━━━━━━━━━\u001b[0m\u001b[37m\u001b[0m \u001b[1m509s\u001b[0m 996ms/step - accuracy: 0.5326 - loss: 0.6851 - val_accuracy: 0.7783 - val_loss: 0.5445\n",
      "Epoch 2/5\n",
      "\u001b[1m496/496\u001b[0m \u001b[32m━━━━━━━━━━━━━━━━━━━━\u001b[0m\u001b[37m\u001b[0m \u001b[1m410s\u001b[0m 826ms/step - accuracy: 0.7433 - loss: 0.5409 - val_accuracy: 0.7643 - val_loss: 0.5052\n",
      "Epoch 3/5\n",
      "\u001b[1m496/496\u001b[0m \u001b[32m━━━━━━━━━━━━━━━━━━━━\u001b[0m\u001b[37m\u001b[0m \u001b[1m428s\u001b[0m 862ms/step - accuracy: 0.8003 - loss: 0.4427 - val_accuracy: 0.8697 - val_loss: 0.3148\n",
      "Epoch 4/5\n",
      "\u001b[1m496/496\u001b[0m \u001b[32m━━━━━━━━━━━━━━━━━━━━\u001b[0m\u001b[37m\u001b[0m \u001b[1m801s\u001b[0m 2s/step - accuracy: 0.8884 - loss: 0.2810 - val_accuracy: 0.8867 - val_loss: 0.2900\n",
      "Epoch 5/5\n",
      "\u001b[1m496/496\u001b[0m \u001b[32m━━━━━━━━━━━━━━━━━━━━\u001b[0m\u001b[37m\u001b[0m \u001b[1m392s\u001b[0m 791ms/step - accuracy: 0.9102 - loss: 0.2286 - val_accuracy: 0.8900 - val_loss: 0.2782\n"
     ]
    },
    {
     "data": {
      "text/plain": [
       "<keras.src.callbacks.history.History at 0x1b6441ddc70>"
      ]
     },
     "execution_count": 24,
     "metadata": {},
     "output_type": "execute_result"
    }
   ],
   "source": [
    "model.fit(x_train_padded , y_train , epochs=5 , validation_split=0.2 , batch_size=64)"
   ]
  },
  {
   "cell_type": "code",
   "execution_count": 25,
   "metadata": {},
   "outputs": [
    {
     "name": "stdout",
     "output_type": "stream",
     "text": [
      "\u001b[1m310/310\u001b[0m \u001b[32m━━━━━━━━━━━━━━━━━━━━\u001b[0m\u001b[37m\u001b[0m \u001b[1m41s\u001b[0m 131ms/step - accuracy: 0.8877 - loss: 0.2831\n"
     ]
    }
   ],
   "source": [
    "loss , accuracy = model.evaluate(x_test_padded , y_test)"
   ]
  },
  {
   "cell_type": "code",
   "execution_count": 26,
   "metadata": {},
   "outputs": [
    {
     "name": "stdout",
     "output_type": "stream",
     "text": [
      "loss :  0.28848838806152344\n",
      "accuracy :  0.8849450349807739\n"
     ]
    }
   ],
   "source": [
    "print(\"loss : \" , loss)\n",
    "print(\"accuracy : \" , accuracy)"
   ]
  },
  {
   "cell_type": "code",
   "execution_count": null,
   "metadata": {},
   "outputs": [],
   "source": [
    "def predict_sentiment(review):\n",
    "\n",
    "    if isinstance(review, str):\n",
    "        review = [review]\n",
    "\n",
    "    sequence = tokenizer.texts_to_sequences(review)\n",
    "    padded_sequence = pad_sequences(sequence , maxlen=200)\n",
    "    prediction = model.predict(padded_sequence)\n",
    " \n",
    "    print(f\"Prediction Value: {prediction[0][0]}\")\n",
    "\n",
    "    sentiment = \"Positive\" if prediction[0][0] > 0.5 else \"Negative\"\n",
    "\n",
    "    return sentiment"
   ]
  },
  {
   "cell_type": "code",
   "execution_count": 28,
   "metadata": {},
   "outputs": [
    {
     "name": "stdout",
     "output_type": "stream",
     "text": [
      "\u001b[1m1/1\u001b[0m \u001b[32m━━━━━━━━━━━━━━━━━━━━\u001b[0m\u001b[37m\u001b[0m \u001b[1m1s\u001b[0m 1s/step\n",
      "Prediction Value: 0.9755327701568604\n"
     ]
    },
    {
     "data": {
      "text/plain": [
       "'Positive'"
      ]
     },
     "execution_count": 28,
     "metadata": {},
     "output_type": "execute_result"
    }
   ],
   "source": [
    "test_review1 = \"This movie was fantastic. I loved it.\"\n",
    "\n",
    "predict_sentiment(test_review1)"
   ]
  },
  {
   "cell_type": "code",
   "execution_count": 29,
   "metadata": {},
   "outputs": [
    {
     "name": "stdout",
     "output_type": "stream",
     "text": [
      "\u001b[1m1/1\u001b[0m \u001b[32m━━━━━━━━━━━━━━━━━━━━\u001b[0m\u001b[37m\u001b[0m \u001b[1m0s\u001b[0m 72ms/step\n",
      "Prediction Value: 0.5507130026817322\n"
     ]
    },
    {
     "data": {
      "text/plain": [
       "'Negative'"
      ]
     },
     "execution_count": 29,
     "metadata": {},
     "output_type": "execute_result"
    }
   ],
   "source": [
    "test_review3 = \"This movie was not that good\"\n",
    "predict_sentiment(test_review3)"
   ]
  },
  {
   "cell_type": "code",
   "execution_count": 30,
   "metadata": {},
   "outputs": [],
   "source": [
    "x_test = test_data['review']"
   ]
  },
  {
   "cell_type": "code",
   "execution_count": 31,
   "metadata": {},
   "outputs": [
    {
     "name": "stdout",
     "output_type": "stream",
     "text": [
      "\u001b[1m1/1\u001b[0m \u001b[32m━━━━━━━━━━━━━━━━━━━━\u001b[0m\u001b[37m\u001b[0m \u001b[1m0s\u001b[0m 84ms/step\n",
      "Prediction Value: 0.0029169314075261354\n",
      "Review: \"Soul Plane\" is a horrible attempt at comedy that only should appeal people with thick skulls, bloodshot eyes and furry pawns. The plot is not only incoherent but also non-existent, acting is mostly sub sub-par with a gang of highly moronic and dreadful characters thrown in for bad measure, jokes are often spotted miles ahead and almost never even a bit amusing. This movie lacks any structure and is full of racial stereotypes that must have seemed old even in the fifties, the only thing it really has going for it is some pretty ladies, but really, if you want that you can rent something from the \"Adult\" section. OK?I can hardly see anything here to recommend since you'll probably have a lot a better and productive time chasing rats with a sledgehammer or inventing waterproof teabags or whatever.2/10\n",
      "Actual Sentiment: Negative\n",
      "Predicted Sentiment: Negative\n",
      "\n",
      "\u001b[1m1/1\u001b[0m \u001b[32m━━━━━━━━━━━━━━━━━━━━\u001b[0m\u001b[37m\u001b[0m \u001b[1m0s\u001b[0m 96ms/step\n",
      "Prediction Value: 0.9638681411743164\n",
      "Review: Guest from the Future tells a fascinating story of time travel, friendship, battle of good and evil -- all with a small budget, child actors, and few special effects. Something for Spielberg and Lucas to learn from. ;) A sixth-grader Kolya \"Nick\" Gerasimov finds a time machine in the basement of a decrepit building and travels 100 years into the future. He discovers a near-perfect, utopian society where robots play guitars and write poetry, everyone is kind to each other and people enjoy everything technology has to offer. Alice is the daughter of a prominent scientist who invented a device called Mielophone that allows to read minds of humans and animals. The device can be put to both good and bad use, depending on whose hands it falls into. When two evil space pirates from Saturn who want to rule the universe attempt to steal Mielophone, it falls into the hands of 20th century school boy Nick. With the pirates hot on his tracks, he travels back to his time, followed by the pirates, and Alice. Chaos, confusion and funny situations follow as the luckless pirates try to blend in with the earthlings. Alice enrolls in the same school Nick goes to and demonstrates superhuman abilities in PE class. The catch is, Alice doesn't know what Nick looks like, while the pirates do. Also, the pirates are able to change their appearance and turn literally into anyone. (Hmm, I wonder if this is where James Cameron got the idea for Terminator...) Who gets to Nick -- and Mielophone -- first? Excellent plot, non-stop adventures, and great soundtrack. I wish Hollywood made kid movies like this one...\n",
      "Actual Sentiment: Positive\n",
      "Predicted Sentiment: Positive\n",
      "\n",
      "\u001b[1m1/1\u001b[0m \u001b[32m━━━━━━━━━━━━━━━━━━━━\u001b[0m\u001b[37m\u001b[0m \u001b[1m0s\u001b[0m 92ms/step\n",
      "Prediction Value: 0.6686988472938538\n",
      "Review: \"National Treasure\" (2004) is a thoroughly misguided hodge-podge of plot entanglements that borrow from nearly every cloak and dagger government conspiracy cliché that has ever been written. The film stars Nicholas Cage as Benjamin Franklin Gates (how precious is that, I ask you?); a seemingly normal fellow who, for no other reason than being of a lineage of like-minded misguided fortune hunters, decides to steal a 'national treasure' that has been hidden by the United States founding fathers. After a bit of subtext and background that plays laughably (unintentionally) like Indiana Jones meets The Patriot, the film degenerates into one misguided whimsy after another  attempting to create a 'Stanley Goodspeed' regurgitation of Nicholas Cage and launch the whole convoluted mess forward with a series of high octane, but disconnected misadventures.The relevancy and logic to having George Washington and his motley crew of patriots burying a king's ransom someplace on native soil, and then, going through the meticulous plan of leaving clues scattered throughout U.S. currency art work, is something that director Jon Turteltaub never quite gets around to explaining. Couldn't Washington found better usage for such wealth during the start up of the country? Hence, we are left with a mystery built on top of an enigma that is already on shaky ground by the time Ben appoints himself the new custodian of this untold wealth. Ben's intentions are noble  if confusing. He's set on protecting the treasure. For who and when?your guess is as good as mine.But there are a few problems with Ben's crusade. First up, his friend, Ian Holmes (Sean Bean) decides that he can't wait for Ben to make up his mind about stealing the Declaration of Independence from the National Archives (oh, yeah  brilliant idea!). Presumably, the back of that famous document holds the secret answer to the ultimate fortune. So Ian tries to kill Ben. The assassination attempt is, of course, unsuccessful, if overly melodramatic. It also affords Ben the opportunity to pick up, and pick on, the very sultry curator of the archives, Abigail Chase (Diane Kruger). She thinks Ben is clearly a nut  at least at the beginning. But true to action/romance form, Abby's resolve melts quicker than you can say, \"is that the Hope Diamond?\" The film moves into full X-File-ish mode, as the FBI, mistakenly believing that Ben is behind the theft, retaliate in various benign ways that lead to a multi-layering of action sequences reminiscent of Mission Impossible meets The Fugitive. Honestly, don't those guys ever get 'intelligence' information that is correct? In the final analysis, \"National Treasure\" isn't great film making, so much as it's a patchwork rehash of tired old bits from other movies, woven together from scraps, the likes of which would make IL' Betsy Ross blush.The Buena Vista DVD delivers a far more generous treatment than this film is deserving of. The anamorphic widescreen picture exhibits a very smooth and finely detailed image with very rich colors, natural flesh tones, solid blacks and clean whites. The stylized image is also free of blemishes and digital enhancements. The audio is 5.1 and delivers a nice sonic boom to your side and rear speakers with intensity and realism. Extras include a host of promotional junket material that is rather deep and over the top in its explanation of how and why this film was made. If only, as an audience, we had had more clarification as to why Ben and co. were chasing after an illusive treasure, this might have been one good flick. Extras conclude with the theatrical trailer, audio commentary and deleted scenes. Not for the faint-hearted  just the thick-headed.\n",
      "Actual Sentiment: Negative\n",
      "Predicted Sentiment: Negative\n",
      "\n",
      "\u001b[1m1/1\u001b[0m \u001b[32m━━━━━━━━━━━━━━━━━━━━\u001b[0m\u001b[37m\u001b[0m \u001b[1m0s\u001b[0m 123ms/step\n",
      "Prediction Value: 0.3663490414619446\n",
      "Review: OK. First said, I just wanted to check whether this movie has an average rating below or exactly -1. But 5,9. This is sicker than any of the killers' proceedings -,- . That made me curious what people wrote here.. which in the end made me set up an account to give my 2cents of truth into this \"well of delusion\" i find here.How dare you guys even MENTION this movie in the same sentences as e.g. Seven? The only thing they got in common is that they show various crime-scenes. That-is-it. And \"Best thriller of 1999!\" ? have you even watched another movie form that year? Or any other movie in your life at all? 1999 is not a year which people are reminded of by RESURRECTION... what's with actual MOVIES like 8mm, Eyes wide shut, Arlington Road, Double Jeopardy? (Theyre actually more a \"thriller\" than this one could ever be..). Resurrection does not even deserve to be dedicated to A SECOND of 1999.Really, you guys can't be serious. I watched that movie yesterday with my girlfriend, highly recommended by a friend of her. A \"great film with Christopher Lambert\"! ...which I had not yet seen? Hmm.. Well, first look on the Covers: OK, nothing special. At second glimpse you don't need to have supernatural powers to be aware that they simply mirrored Lambert's head, clipped his nose 'n this&that, then made a fancy negative pattern on top of it, to get the killers image on the COVER. You could even think they had some apprentice eat a gallon of marshmallows just to caption that creepy (booooh! -.- ) mouth.. whatever. Turned it around and the plot starts with.. \"it's raining in Chicago... blabber blabber\". Come on, a six year old could have made that snippet sound more exciting. Now, with this enormous excitement coming from the movies terrific presentation -.- , you absolutely wanna start watching it. Because it can't be that bad, it still is Christopher Lambert. That assumption of mine was proved wrong. WIth \"proven wrong\" i mean it was brutally executed by a deadly mix of the worst imaginable acting ever known to mankind (every actor, but the tops are the \"i can do 1-Liners!\" police chief, Prudhommes Wife __ actually a better detective than Prudhomme when she recombines several incidents to a yet ABSOLUTELY UNKNOWN hint in the case!!!! -.- __ and .. yes.. Prudhomme himself) featuring a squadron of inhuman fake feelings, logic errors in a 1-minute-cycle, light-years far-fetched conclusions which in my point-of-view represent an insult to any thinking human being and last but not least a camera-man who obviously was a hyperventilating kangaroo. Oh well, and if you do not completely shut down your brains (these aren't premises to watch it) then you should know who is who and what is what after max. 30minutes, simply because you know ANY scene after the first. That is thrilling. Thrilling because this movie almost makes you think you can tell the future. The bottom line: This is BY FAR the worst movie I can remember. Trust me, I've seen many horrible movies which in some way were at least only bad attempts or bad copies of another movie. Resurrection however, is the best example on how to fail in every aspect possible. It was so bad that after being shocked by its unimaginably low quality in e-v-e-r-y-t-h-i-n-g, I laughed more often than in any recent comedy, simply because I was fascinated by the crew's brazenness to publish such an -extraordinary- film strip. Good thing for Lambert he was in Highlander:Endgame a year later, thus he can be pardoned. ;^OAnyhow, I DO recommend watching this movie to EVERYONE. In the end, we had great fun watching it :^D. I guarantee you, after you completely watched Resurrection (be brave, you can do it!) , you will worship the level of acting in any given daily soap. Or just go 'n watch highlander one more time... that's what I'm gonna do.\n",
      "Actual Sentiment: Negative\n",
      "Predicted Sentiment: Negative\n",
      "\n",
      "\u001b[1m1/1\u001b[0m \u001b[32m━━━━━━━━━━━━━━━━━━━━\u001b[0m\u001b[37m\u001b[0m \u001b[1m0s\u001b[0m 93ms/step\n",
      "Prediction Value: 0.9819542765617371\n",
      "Review: I haven't always been a fan, but the show grew on me. It wasn't until after season 5 that I started to see the richness of the show. They finally brought Daniel Jackson's search for his wife to an end and finally most of the Go,ould System Lords were killed by rival Lords, SG-1 or others.Towards Season 5, Stargate SG-1, was beginning to become stale. With the new writers and the close attention by Produer Peter Deleuise, the show became more and more solid.The characters had become stale as well. Colonel Jack O'Neill was the stereotypical hero with emotional baggage. After his son Charlie was killed in a shooting accident with O'Neill's weapon, he had decided to end his own life by going to Abydos in order to face off with the Go'ould RA. The character offers little growth for any actor and actor Richard Dean Anderson chose to play him straight raising emotional barriers to protect himself. only allowing his close friends in.Amanda Tapping joined the cast as Captain Samantha Carter. She was a feminist on the edge, ready to battle any man who would doubt her ability to do her job. Though this character had little area to grow, Tapping has done a great job of concentrating on Carter's strengths. She has taken the time to get a basic understanding of some of the things Carter talks about in order that she can present the character intelligently. Christopher Judge joined the cast playing the alien Teal'c. Teal'c was an alien called the Jaffa. Infant Go'ould, (snake like creatures) would embed themselves into the Jaffa until they had grown to the point when it would be inserted into another life form. The Jaffa would die. Teal'c was the First Prime of Apophis' army. Knowing that Apophis was not a god like Go'ould pretend, he realized the genocide that their armies had wreaked on the galaxy. Finally, having had enough, he and Jack O'Neill freed their team along with quite a few innocent people. After arriving on Earth, he realized that Earth was the planet he was looking for, who would help him fight the Go'ould. Christopher Judge has done quite a bit with a limited character. Teal'c is a wise warrior, much of which he learned was from his teacher Master Bra'tac. The show would not be complete without Master Bra'tac played by Tony Amandola. He is also a rock. In the end, he became adviser to most of SG-1, especially Daniel Jackson. Don S. Davil was there from the beginning playing Major General George Hammand. Davis has done an incredible job with Hammond making him sympathetic and normal. He does his job, has a wife, sons and daughters and grandchildren. You can really say, he is the anchor of the base. Simply, I would die for that man. If not allowed by his superiors to provide troops to support teams off world. He will go himself. He doesn't leave anyone behind.I saved Dr. Daniel Jackson for last, because this character, I believe has grown the most in the ten or eleven years it has been on. In choosing Shanks I don't think the producer realized how strong Shanks would be and now when people talk about Jackson, they don't talk about Spader, they talk about Shanks. In the early years, the Jackson character came off as a whiner. That's why I probably wasn't a fan. As the seasons pasted, the character became stronger. This gave him confidence. In the end, as of season 10, the Jackson character has matured to the point that he has become a self sacrificing hero. He still monitors the groups ethics. He still is lead at providing information that can move any mission forward. Acheaology, History, Culture and Exploration are part of his very being. He is determined. Though a man of peace, he has matured to the point that using his weapons may be the only way to solve a disagreement. Other characters include, most recently: Vala Mal Doran(Claudia Black) and Colonel Cameron Mitchell(Ben Browder), new lead of SG-1. Both actors come from a series called Farscape and why they were put together is any bodies guess. I see little difference between Mitchell and Crichton (Farscape character). Black's character is simply off the wall. Definitely different from her soldier like character Arin Soon.\n",
      "Actual Sentiment: Positive\n",
      "Predicted Sentiment: Positive\n",
      "\n",
      "\u001b[1m1/1\u001b[0m \u001b[32m━━━━━━━━━━━━━━━━━━━━\u001b[0m\u001b[37m\u001b[0m \u001b[1m0s\u001b[0m 94ms/step\n",
      "Prediction Value: 0.9584570527076721\n",
      "Review: Recovery is an incredibly moving piece of work, handling the devastating effects of brain injury on not only the individual, but the entire family. Without resorting to preaching or Hollywood sappy endings, Tony Marchant's drama presents a family in crisis in a realistic way.Highest praise goes David Tennant and Sarah Parish for their incredible performances. I had presumed before watching the drama that I would see some of their previous on screen relationship in Blackpool bleed through-- but it never does. Neither actor is recognizable from any previous work, and I didn't see either of them as an actor playing a part during the entire 90 minutes. In addition, Harry Treadaway's performance as the son just on the cusp of starting his own life in university was fantastic - throughout the piece, he shows the torn nature of a teenage boy thrown into the unwilling role as man of the house,At times, nearly every character in the drama is unsympathetic. As the viewer, I wanted to give each of them a good smack to wake up to reality, stop moping, and start adjusting to the rotten but very present change in their lives. But under the same circumstances, I see myself acting like any of them - switching between trying to show the stiff upper lip to desperation to escape to anything, including behavior that is completely unlike myself. It's the show's greatest strength - truth, without sugar coating, to force us all to think what we'd be able to do under the same circumstances.This is a difficult, but must-watch show. I hope that it somehow manages to be shown in the U.S.\n",
      "Actual Sentiment: Positive\n",
      "Predicted Sentiment: Positive\n",
      "\n",
      "\u001b[1m1/1\u001b[0m \u001b[32m━━━━━━━━━━━━━━━━━━━━\u001b[0m\u001b[37m\u001b[0m \u001b[1m0s\u001b[0m 81ms/step\n",
      "Prediction Value: 0.011466355063021183\n",
      "Review: Awful movie. It's a shame that a few of Flanders's top actors and actresses made such a lamentably poor film.There is barely something changed since the first movie and the TV series: same actors, same prototype characters, same scenario (emotional complications, the team under emotional pressure but everything turn out tip-top after a predictable grand finale). Another constant fact in the work of Jan Verheyen is the exaggerated product placement (company logo's on the team's shirt and along side the pitch OK but two times a commercial (by one of the characters) about an internet provider is just over the top.Meanwhile, rumour has it about the making of a second series for Flanders commercial TV station 'VTM' (coincidental or not, the station where Jan Verheyen is programmation manager since a few months)To conclude ... and the golden raspberry award for worst foreign movie goes to ... Team Spirit 2\n",
      "Actual Sentiment: Negative\n",
      "Predicted Sentiment: Negative\n",
      "\n",
      "\u001b[1m1/1\u001b[0m \u001b[32m━━━━━━━━━━━━━━━━━━━━\u001b[0m\u001b[37m\u001b[0m \u001b[1m0s\u001b[0m 74ms/step\n",
      "Prediction Value: 0.042901549488306046\n",
      "Review: His significant charisma and commanding presence are about all that keep this afloat, but Fred Williamson has done far better urban action films including many of his later, vid-released fare. The big studios' Williamson films of the early-to-mid 70's rarely had the punch of their mid-level counterparts, and this is a prime example. Clumsy action, little violence, and the PG rating is nowhere near questionable. Worth a look for Hammer completists in any case.\n",
      "Actual Sentiment: Negative\n",
      "Predicted Sentiment: Negative\n",
      "\n",
      "\u001b[1m1/1\u001b[0m \u001b[32m━━━━━━━━━━━━━━━━━━━━\u001b[0m\u001b[37m\u001b[0m \u001b[1m0s\u001b[0m 71ms/step\n",
      "Prediction Value: 0.013467108830809593\n",
      "Review: Checking the spoiler alert just in case.Perhaps one of the most horrendous movies I have ever seen, Mazes and Monsters felt like I wasted 101 minutes of my life. The only redeeming quality of the movie were scenes that tried to be serious, but just ended up being funny since they were so bad. Evil Dead anyone? Unfortunately for M&M (fortunately for us) it did not develop a cult following and result in a trilogy. This movie tried to address a series of problems that the main character, Robbie (played by Hanks) encountered throughout the film. It ended up being a fear mongering video about stereotypes that helped fuel the D&D is the Devil movement in the 80s.If you want to avoid wasting your time and money, steer clear of this junk.P.S. - Even though the cover looks kinda interesting, which is why I guess my brother bought it, it in no way takes place in a fantasy realm, unless you consider New England or New York City to be such a place.\n",
      "Actual Sentiment: Negative\n",
      "Predicted Sentiment: Negative\n",
      "\n",
      "\u001b[1m1/1\u001b[0m \u001b[32m━━━━━━━━━━━━━━━━━━━━\u001b[0m\u001b[37m\u001b[0m \u001b[1m0s\u001b[0m 74ms/step\n",
      "Prediction Value: 0.9664555788040161\n",
      "Review: Yes this movie is predictable and definitely not award-material. But then it doesn't try to be anything it is not. A fun-filled romp with real funny one-liners, a stellar and very funny performance by Peter O'Toole, a grounding and down to earth performance from Joan Plowright. The band's performance was on the spot, each one playing their role in a deft, comical manner. The music was good though not great but filled out the movie nicely. From some of the negative comments I deduced that the subtlety of some of the humour went over their heads. A good example is the comment about the \"strange baseball-like game\", well my dear American, that was cricket -from which baseball is derived- and the explaining of it to the ignorant US band was very funny for those that do know cricket. Also no, you were not supposed to wince when Carl broke a window; it was funny how Lord Foxley said \"oh yes!\" to get more money for breakage and the manager said at the same time \"oh no\" also referring to the money. Jeez, it seems that every joke must be explained to some people... All-in-all I enjoyed it and had some great laughs! Well worth seeing.\n",
      "Actual Sentiment: Positive\n",
      "Predicted Sentiment: Positive\n",
      "\n"
     ]
    }
   ],
   "source": [
    "for i in range(10):\n",
    "    review = x_test.iloc[i]\n",
    "    actual_sentiment = \"Positive\" if y_test.iloc[i] == 1 else \"Negative\"\n",
    "    predicted_sentiment = predict_sentiment(review)\n",
    "    print(f\"Review: {review}\")\n",
    "    print(f\"Actual Sentiment: {actual_sentiment}\")\n",
    "    print(f\"Predicted Sentiment: {predicted_sentiment}\\n\")\n"
   ]
  },
  {
   "cell_type": "code",
   "execution_count": null,
   "metadata": {},
   "outputs": [],
   "source": []
  }
 ],
 "metadata": {
  "kernelspec": {
   "display_name": "myenv",
   "language": "python",
   "name": "python3"
  },
  "language_info": {
   "codemirror_mode": {
    "name": "ipython",
    "version": 3
   },
   "file_extension": ".py",
   "mimetype": "text/x-python",
   "name": "python",
   "nbconvert_exporter": "python",
   "pygments_lexer": "ipython3",
   "version": "3.12.4"
  }
 },
 "nbformat": 4,
 "nbformat_minor": 2
}
